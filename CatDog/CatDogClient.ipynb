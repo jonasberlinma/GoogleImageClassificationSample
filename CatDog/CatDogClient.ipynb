{
 "cells": [
  {
   "cell_type": "code",
   "execution_count": 1,
   "metadata": {},
   "outputs": [],
   "source": [
    "import os\n",
    "import base64\n",
    "import requests\n",
    "import random\n",
    "import subprocess\n",
    "\n",
    "from IPython.display import display\n",
    "\n",
    "ENDPOINT_ID = \"4160657552620650496\"\n",
    "PROJECT_ID = \"vision-ml-first-test\"\n",
    "\n",
    "# This is cheating!!! Instead create an access key and store it in a key store!!!\n",
    "GCLOUD_ACCESS_TOKEN = subprocess.check_output(\"gcloud auth print-access-token\", shell=True).strip()\n",
    "\n",
    "HEADERS = {'Authorization': \"Bearer \" + GCLOUD_ACCESS_TOKEN, 'Content-Type': 'application/json'}\n",
    "\n",
    "END_POINT = \"https://us-central1-prediction-aiplatform.googleapis.com/v1alpha1/projects/\" + \\\n",
    "            PROJECT_ID + \\\n",
    "            \"/locations/us-central1/endpoints/\" + \\\n",
    "            ENDPOINT_ID + \":predict\"\n",
    "\n",
    "image_dir = \"images\"\n",
    "IMAGE_COUNT = 10\n",
    "\n",
    "REQ_TEMPLATE = '{ \\\n",
    "  \"instances\": [{ \\\n",
    "    \"content\": \"REQUEST_DATA\" \\\n",
    "  }], \\\n",
    "  \"parameters\": { \\\n",
    "    \"confidenceThreshold\": 0.5, \\\n",
    "    \"maxPredictions\": 5\\\n",
    "  }\\\n",
    "}'\n"
   ]
  },
  {
   "cell_type": "code",
   "execution_count": 2,
   "metadata": {},
   "outputs": [
    {
     "ename": "HTTPError",
     "evalue": "404 Client Error: Not Found for url: https://us-central1-prediction-aiplatform.googleapis.com/v1alpha1/projects/vision-ml-first-test/locations/us-central1/endpoints/4160657552620650496:predict",
     "output_type": "error",
     "traceback": [
      "\u001b[0;31m---------------------------------------------------------------------------\u001b[0m",
      "\u001b[0;31mHTTPError\u001b[0m                                 Traceback (most recent call last)",
      "\u001b[0;32m<ipython-input-2-1745ba8af2e3>\u001b[0m in \u001b[0;36m<module>\u001b[0;34m()\u001b[0m\n\u001b[1;32m     17\u001b[0m     \u001b[0;31m# Call the Google API\u001b[0m\u001b[0;34m\u001b[0m\u001b[0;34m\u001b[0m\u001b[0m\n\u001b[1;32m     18\u001b[0m     \u001b[0mresp\u001b[0m \u001b[0;34m=\u001b[0m \u001b[0mrequests\u001b[0m\u001b[0;34m.\u001b[0m\u001b[0mpost\u001b[0m\u001b[0;34m(\u001b[0m\u001b[0mEND_POINT\u001b[0m\u001b[0;34m,\u001b[0m \u001b[0mdata\u001b[0m\u001b[0;34m=\u001b[0m\u001b[0mreq_data\u001b[0m\u001b[0;34m,\u001b[0m \u001b[0mheaders\u001b[0m\u001b[0;34m=\u001b[0m\u001b[0mHEADERS\u001b[0m\u001b[0;34m)\u001b[0m\u001b[0;34m\u001b[0m\u001b[0m\n\u001b[0;32m---> 19\u001b[0;31m     \u001b[0mresp\u001b[0m\u001b[0;34m.\u001b[0m\u001b[0mraise_for_status\u001b[0m\u001b[0;34m(\u001b[0m\u001b[0;34m)\u001b[0m\u001b[0;34m\u001b[0m\u001b[0m\n\u001b[0m\u001b[1;32m     20\u001b[0m \u001b[0;34m\u001b[0m\u001b[0m\n\u001b[1;32m     21\u001b[0m     \u001b[0;31m# Pull out the response data and print it\u001b[0m\u001b[0;34m\u001b[0m\u001b[0;34m\u001b[0m\u001b[0m\n",
      "\u001b[0;32m/Users/jonas/Library/Python/2.7/lib/python/site-packages/requests/models.pyc\u001b[0m in \u001b[0;36mraise_for_status\u001b[0;34m(self)\u001b[0m\n\u001b[1;32m    941\u001b[0m \u001b[0;34m\u001b[0m\u001b[0m\n\u001b[1;32m    942\u001b[0m         \u001b[0;32mif\u001b[0m \u001b[0mhttp_error_msg\u001b[0m\u001b[0;34m:\u001b[0m\u001b[0;34m\u001b[0m\u001b[0m\n\u001b[0;32m--> 943\u001b[0;31m             \u001b[0;32mraise\u001b[0m \u001b[0mHTTPError\u001b[0m\u001b[0;34m(\u001b[0m\u001b[0mhttp_error_msg\u001b[0m\u001b[0;34m,\u001b[0m \u001b[0mresponse\u001b[0m\u001b[0;34m=\u001b[0m\u001b[0mself\u001b[0m\u001b[0;34m)\u001b[0m\u001b[0;34m\u001b[0m\u001b[0m\n\u001b[0m\u001b[1;32m    944\u001b[0m \u001b[0;34m\u001b[0m\u001b[0m\n\u001b[1;32m    945\u001b[0m     \u001b[0;32mdef\u001b[0m \u001b[0mclose\u001b[0m\u001b[0;34m(\u001b[0m\u001b[0mself\u001b[0m\u001b[0;34m)\u001b[0m\u001b[0;34m:\u001b[0m\u001b[0;34m\u001b[0m\u001b[0m\n",
      "\u001b[0;31mHTTPError\u001b[0m: 404 Client Error: Not Found for url: https://us-central1-prediction-aiplatform.googleapis.com/v1alpha1/projects/vision-ml-first-test/locations/us-central1/endpoints/4160657552620650496:predict"
     ]
    }
   ],
   "source": [
    "# Find the files\n",
    "files_all = os.listdir(image_dir)\n",
    "files_sample = random.sample(files_all, IMAGE_COUNT)\n",
    "\n",
    "for file_name in files_sample:\n",
    "    \n",
    "    # Get the image data\n",
    "    full_file_name = image_dir + \"/\" + file_name\n",
    "    in_file = open(full_file_name)\n",
    "    file_data = in_file.read()\n",
    "    in_file.close()\n",
    "    \n",
    "    # Encode and create request\n",
    "    file_base64_string = base64 \\\n",
    "                .b64encode(file_data) \\\n",
    "                .decode('ascii')\n",
    "    req_data = REQ_TEMPLATE.replace(\"REQUEST_DATA\", file_base64_string)\n",
    "    \n",
    "    # Call the Google API\n",
    "    resp = requests.post(END_POINT, data=req_data, headers=HEADERS)\n",
    "    resp.raise_for_status()\n",
    "    \n",
    "    # Pull out the response data and print it\n",
    "    prediction = resp.json()[\"predictions\"][0]\n",
    "    print file_name, \" \", prediction[\"displayNames\"][0], \"Confidence =\",prediction[\"confidences\"][0]\n",
    "    \n",
    "    #Show the image\n",
    "    display(Image(full_file_name))"
   ]
  }
 ],
 "metadata": {
  "kernelspec": {
   "display_name": "Python 2",
   "language": "python",
   "name": "python2"
  },
  "language_info": {
   "codemirror_mode": {
    "name": "ipython",
    "version": 2
   },
   "file_extension": ".py",
   "mimetype": "text/x-python",
   "name": "python",
   "nbconvert_exporter": "python",
   "pygments_lexer": "ipython2",
   "version": "2.7.16"
  }
 },
 "nbformat": 4,
 "nbformat_minor": 2
}
